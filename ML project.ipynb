{
 "cells": [
  {
   "cell_type": "markdown",
   "source": [
    "**Group-1**\n",
    "\n",
    "**Title:** Classification of Doremon cartoon characters from a custom Image dataset using a CNN model.\n",
    "\n",
    "**Team members:**\n",
    "Santosh Reddy Edulapalle - A20501739\n",
    "Venkata Siva Rupesh Akurati - A20501754\n",
    "Jack Harrison Mohr -A20503445\n",
    "\n",
    "**This is our .ipynb file for the project. We are going to code everything in this file.**"
   ],
   "metadata": {
    "collapsed": false
   }
  },
  {
   "cell_type": "markdown",
   "source": [
    "**Image dataset:** We are using OpenCV to read the video and capture image with rate of 1 frame per second.\n",
    "\n",
    "**ImageSS** This function takes in path of the video and uses OpenCV to read each frame and captures the images."
   ],
   "metadata": {
    "collapsed": false
   }
  },
  {
   "cell_type": "code",
   "execution_count": 18,
   "outputs": [],
   "source": [
    "#importing cv2 from OpenCV\n",
    "import cv2\n",
    "from datetime import datetime\n",
    "\n",
    "def ImageSS(videoPath):\n",
    "\n",
    "    videoObject = cv2.VideoCapture(videoPath)\n",
    "    frameNumber = 1\n",
    "\n",
    "    # checks whether frames were extracted\n",
    "    boolean = 1\n",
    "    start = datetime.now()\n",
    "    try:\n",
    "        while boolean:\n",
    "            boolean, image = videoObject.read()\n",
    "            cv2.imwrite(\"frame%d.jpg\" %frameNumber, image)\n",
    "            frameNumber += 1\n",
    "    #exception handling\n",
    "    except:\n",
    "        print(\"All the frames are read!\")\n",
    "    finally:\n",
    "        end = datetime.now()\n",
    "    #calculating execution time.\n",
    "    executionTime = (end - start).total_seconds() * 10**3\n",
    "    print(f\"The execution time of above program is : {executionTime:.03f}ms\")\n"
   ],
   "metadata": {
    "collapsed": false
   }
  },
  {
   "cell_type": "markdown",
   "source": [
    "The below cell is commented to prevent it from accidental running.Uncomment it to use the program to capture video frames."
   ],
   "metadata": {
    "collapsed": false
   }
  },
  {
   "cell_type": "code",
   "execution_count": 19,
   "outputs": [],
   "source": [
    "#ImageSS(\"/Users/santosh/Desktop/Neeraja Bday Oct 14.mp4\")"
   ],
   "metadata": {
    "collapsed": false
   }
  },
  {
   "cell_type": "code",
   "execution_count": 19,
   "outputs": [],
   "source": [],
   "metadata": {
    "collapsed": false
   }
  }
 ],
 "metadata": {
  "kernelspec": {
   "display_name": "Python 3",
   "language": "python",
   "name": "python3"
  },
  "language_info": {
   "codemirror_mode": {
    "name": "ipython",
    "version": 2
   },
   "file_extension": ".py",
   "mimetype": "text/x-python",
   "name": "python",
   "nbconvert_exporter": "python",
   "pygments_lexer": "ipython2",
   "version": "2.7.6"
  }
 },
 "nbformat": 4,
 "nbformat_minor": 0
}
