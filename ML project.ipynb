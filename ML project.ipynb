{
 "cells": [
  {
   "cell_type": "markdown",
   "source": [
    "**Group-1**\n",
    "\n",
    "**Title:** Classification of Doremon cartoon characters from a custom Image dataset using a CNN model.\n",
    "\n",
    "**Team members:**\n",
    "Santosh Reddy Edulapalle - A20501739\n",
    "Venkata Siva Rupesh Akurati - A20501754\n",
    "Jack Harrison Mohr -A20503445\n",
    "\n",
    "**This is our .ipynb file for the project. We are going to code everything in this file.**"
   ],
   "metadata": {
    "collapsed": false
   }
  },
  {
   "cell_type": "code",
   "execution_count": null,
   "outputs": [],
   "source": [],
   "metadata": {
    "collapsed": false
   }
  }
 ],
 "metadata": {
  "kernelspec": {
   "display_name": "Python 3",
   "language": "python",
   "name": "python3"
  },
  "language_info": {
   "codemirror_mode": {
    "name": "ipython",
    "version": 2
   },
   "file_extension": ".py",
   "mimetype": "text/x-python",
   "name": "python",
   "nbconvert_exporter": "python",
   "pygments_lexer": "ipython2",
   "version": "2.7.6"
  }
 },
 "nbformat": 4,
 "nbformat_minor": 0
}
